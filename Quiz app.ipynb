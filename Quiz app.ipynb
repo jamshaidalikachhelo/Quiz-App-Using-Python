{
 "cells": [
  {
   "cell_type": "code",
   "execution_count": 25,
   "metadata": {},
   "outputs": [],
   "source": [
    "# List of quiz questions. Each question is a dictionary.\n",
    "questions = [\n",
    "\n",
    "\n",
    "    {\n",
    "        \"prompt\": \"What is the capital of Pakistan?\",\n",
    "        \"options\": [\"A. Paris\", \"B. Karachi\", \"C. Lahore\", \"D. Islamabad\"],\n",
    "        \"answer\": \"D\"\n",
    "\n",
    "\n",
    "\n",
    "    },\n",
    "    \n",
    "    {\n",
    "\n",
    "        \"prompt\": \"What is the capital of France?\",\n",
    "        \"options\": [\"A. Paris\", \"B. London\", \"C. Berlin\", \"D. Madrid\"],\n",
    "        \"answer\": \"A\"\n",
    "    },\n",
    "    {\n",
    "        \"prompt\": \"Which language is primarily spoken in Brazil?\",\n",
    "        \"options\": [\"A. Spanish\", \"B. Portuguese\", \"C. English\", \"D. French\"],\n",
    "        \"answer\": \"B\"\n",
    "    },\n",
    "    {\n",
    "        \"prompt\": \"What is the smallest prime number?\",\n",
    "        \"options\": [\"A. 1\", \"B. 2\", \"C. 3\", \"D. 5\"],\n",
    "        \"answer\": \"B\"\n",
    "    },\n",
    "    {\n",
    "        \"prompt\": \"Who wrote 'To Kill a Mockingbird'?\",\n",
    "        \"options\": [\"A. Harper Lee\", \"B. Mark Twain\", \"C. J.K. Rowling\", \"D. Ernest Hemingway\"],\n",
    "        \"answer\": \"A\"\n",
    "    }\n",
    "]\n",
    "\n",
    "\n",
    "\n"
   ]
  },
  {
   "cell_type": "code",
   "execution_count": 24,
   "metadata": {},
   "outputs": [
    {
     "name": "stdout",
     "output_type": "stream",
     "text": [
      "What is the capital of Pakistan?\n",
      "A. Paris\n",
      "B. Karachi\n",
      "C. Lahore\n",
      "D. Islamabad\n",
      "Wrong! the correct answer is D\n",
      "What is the capital of France?\n",
      "A. Paris\n",
      "B. London\n",
      "C. Berlin\n",
      "D. Madrid\n",
      "Wrong! the correct answer is A\n",
      "Which language is primarily spoken in Brazil?\n",
      "A. Spanish\n",
      "B. Portuguese\n",
      "C. English\n",
      "D. French\n",
      "Wrong! the correct answer is B\n",
      "What is the smallest prime number?\n",
      "A. 1\n",
      "B. 2\n",
      "C. 3\n",
      "D. 5\n",
      "Wrong! the correct answer is B\n",
      "Who wrote 'To Kill a Mockingbird'?\n",
      "A. Harper Lee\n",
      "B. Mark Twain\n",
      "C. J.K. Rowling\n",
      "D. Ernest Hemingway\n",
      "Wrong! the correct answer is A\n",
      "you got 0 out of 5 total questions\n"
     ]
    }
   ],
   "source": [
    "def Quiz(questions):\n",
    "    score = 0 \n",
    "    for question in questions:\n",
    "        print(question['prompt'])\n",
    "        for option in question['options']:\n",
    "            print(option)\n",
    "        answer = input(\"Enter the Answer: 'A', 'B', 'C', 'D': \")\n",
    "        if answer == question['answer']:\n",
    "            print(\"correct\")\n",
    "            score +=1\n",
    "        else:\n",
    "            print(\"Wrong! the correct answer is\", question['answer'])\n",
    "\n",
    "    print(f\"you got {score} out of {len(questions)} total questions\")\n",
    "\n",
    "\n",
    "Quiz(questions)"
   ]
  }
 ],
 "metadata": {
  "kernelspec": {
   "display_name": "Python 3",
   "language": "python",
   "name": "python3"
  },
  "language_info": {
   "codemirror_mode": {
    "name": "ipython",
    "version": 3
   },
   "file_extension": ".py",
   "mimetype": "text/x-python",
   "name": "python",
   "nbconvert_exporter": "python",
   "pygments_lexer": "ipython3",
   "version": "3.11.5"
  }
 },
 "nbformat": 4,
 "nbformat_minor": 2
}
